{
 "cells": [
  {
   "cell_type": "code",
   "execution_count": 1,
   "id": "bbaa6e5f-cd04-49b0-9afd-266415c19d0a",
   "metadata": {},
   "outputs": [],
   "source": [
    "import pandas as pd\n",
    "from tabulate import tabulate\n",
    "import csv\n",
    "import os\n",
    "class EmployeeManager:\n",
    "    emp=[]\n",
    "    filename = \"employees_data.csv\"\n",
    "\n",
    "    def __init__(self):## to load file\n",
    "        self.load_from_csv()\n",
    "\n",
    "    def load_from_csv(self):\n",
    "        ##Load employee data from CSV if file exists.\n",
    "        if os.path.exists(self.filename):\n",
    "            with open(self.filename, mode=\"r\", newline=\"\") as file:\n",
    "                reader = csv.DictReader(file)\n",
    "                self.emp = list(reader)\n",
    "                # Convert salary to float\n",
    "                for e in self.emp:\n",
    "                    e['Salary'] = float(e['Salary'])\n",
    "        else:\n",
    "            self.emp = []\n",
    "    def save_to_csv(self):\n",
    "        ##Save current employee list to CSV.\"\"\"\n",
    "        with open(self.filename, mode=\"w\", newline=\"\") as file:\n",
    "            fieldnames = [\"ID\", \"Name\", \"Position\", \"Salary\", \"Email\"]\n",
    "            writer = csv.DictWriter(file, fieldnames=fieldnames)\n",
    "            writer.writeheader()\n",
    "            for e in self.emp:\n",
    "                writer.writerow(e)\n",
    "      \n",
    "    def check_email(self,Email):## check if email exist or not and contain @gmail.com not\n",
    "         while True:\n",
    "            if \"@gmail.com\" not in Email:\n",
    "                print(\"Invalid Email: Must contain @gmail.com\")\n",
    "            elif any(Email == em['Email'] for em in self.emp):\n",
    "                print(\"Email already exists.\")\n",
    "            else:\n",
    "                return Email\n",
    "            Email = input(\"Enter a valid E@mail address: \")\n",
    "\n",
    "\n",
    "    def Check_id_exist_or_not(self, ID):\n",
    "        while any(ID == emp['ID'] for emp in self.emp):\n",
    "            print(\"ID already exists.\")\n",
    "            ID = input(\"Enter a unique Employee_ID: \")\n",
    "        return ID\n",
    "\n",
    "    def search_id(self,id): ## delete,search ,update\n",
    "        for em in self.emp:\n",
    "            if id == em['ID']:\n",
    "                return em\n",
    "        return None\n",
    "    \n",
    "    def add_employee(self):\n",
    "        ID=input('Enter Employee_ID')\n",
    "        Checked_ID=self.Check_id_exist_or_not(ID)## check if id exist or not\n",
    "        if  Checked_ID is not None:## if not exist\n",
    "            ID=Checked_ID\n",
    "\n",
    "        Name=input('Enter Employee_name')\n",
    "        Position= input('Enter Employee_position')\n",
    "\n",
    "        while True:## validate salary\n",
    "            try:\n",
    "                Salary= float(input('Enter Employee_salary'))\n",
    "                break\n",
    "            except:\n",
    "                print(\"Enter valid salary\")\n",
    " \n",
    "        Email= input('Enter Employee_email')\n",
    "        Email=self.check_email(Email)## check if mail exist or not and check if it contain @gmail or not\n",
    "             \n",
    "        employee = {\n",
    "                \"ID\": ID,\n",
    "                \"Name\": Name,\n",
    "                \"Position\": Position,\n",
    "                \"Salary\": Salary,\n",
    "                \"Email\":Email\n",
    "            }\n",
    "        self.emp.append(employee)\n",
    "        self.save_to_csv()\n",
    "#######################################################################################################################\n",
    "    def view_employees(self):\n",
    "        pd.set_option('display.max_rows', None)  \n",
    "        df = pd.DataFrame(self.emp)\n",
    "        print(\"\\n=== Employee Table ===\")\n",
    "        print(tabulate(df, headers='keys', tablefmt='fancy_grid'))\n",
    "#####################################################################################################################  \n",
    "\n",
    "    def update(self):\n",
    "        emp_id = input(\"Enter the Employee ID to update: \")\n",
    "        em = self.search_id(emp_id)  # check if id exist or not \n",
    "    \n",
    "        if em is None:## if not found\n",
    "            print(\"ID does not exist\")\n",
    "        else:\n",
    "            new_position = input(\"New position: \").strip()\n",
    "            if new_position:\n",
    "                em['Position'] = new_position\n",
    "    \n",
    "            while True:\n",
    "                try:\n",
    "                    new_salary = float(input(\"Enter Employee salary: \"))\n",
    "                    em['Salary'] = new_salary\n",
    "                    break\n",
    "                except:\n",
    "                    print(\"Enter valid salary\")\n",
    "    \n",
    "            new_email = input(\"New email: \").strip()\n",
    "            if new_email:\n",
    "                new_email = self.check_email(new_email)\n",
    "                em['Email'] = new_email\n",
    "            self.save_to_csv()             \n",
    " #######################################################################################################################                                      \n",
    "    def delete(self):\n",
    "        emp_id = input(\"Enter the Employee ID to delete: \")\n",
    "        employee=self.search_id(emp_id) ## check id exist or not\n",
    "        if employee is not None: ## if not found\n",
    "            self.emp.remove(employee)\n",
    "            self.save_to_csv()\n",
    "        elif employee is None:\n",
    "            print('id not exist')\n",
    "###########################################################################################################################    \n",
    "    def search_employee(self):\n",
    "        emp_id = input(\"Enter the Employee ID you want: \")\n",
    "        employee=self.search_id(emp_id) ## check id exist or not\n",
    "        if employee is not None:## if not found\n",
    "            print(employee)\n",
    "        elif employee is None:\n",
    "            print('id not exist')\n",
    " ###########################################################################################################################        \n",
    "         \n",
    "    def main_menu(self):\n",
    "        print(\"Press a to add employee\")\n",
    "        print(\"Press d to delete employee\")\n",
    "        print(\"Press u to update employee\")\n",
    "        print(\"Press v to view all employees\")\n",
    "        print(\"Press s to search\")\n",
    "        print(\"Press e to exit\")\n",
    "\n",
    "       \n",
    "\n",
    "        while True:\n",
    "             option=input(\"Select one of these inputs(a,d,u,v,s,e)\").lower()\n",
    "             if(option=='a'):\n",
    "                    self. add_employee()\n",
    "             elif (option=='d'):\n",
    "                    self.delete()\n",
    "             elif(option=='u'):\n",
    "                    self.update()\n",
    "             elif(option=='v'):\n",
    "                    self.view_employees()\n",
    "             elif(option=='s'):\n",
    "                    self.search_employee()\n",
    "             elif(option=='e'):\n",
    "                    break\n",
    "             else:\n",
    "                    print(\"invalid input\")\n",
    "                    \n",
    "            \n",
    "\n",
    "\n"
   ]
  },
  {
   "cell_type": "code",
   "execution_count": 2,
   "id": "ef719879-81e1-47e2-975b-ccd261b6b594",
   "metadata": {
    "scrolled": true
   },
   "outputs": [
    {
     "name": "stdout",
     "output_type": "stream",
     "text": [
      "Press a to add employee\n",
      "Press d to delete employee\n",
      "Press u to update employee\n",
      "Press v to view all employees\n",
      "Press s to search\n",
      "Press e to exit\n"
     ]
    },
    {
     "name": "stdin",
     "output_type": "stream",
     "text": [
      "Select one of these inputs(a,d,u,v,s,e) v\n"
     ]
    },
    {
     "name": "stdout",
     "output_type": "stream",
     "text": [
      "\n",
      "=== Employee Table ===\n",
      "╒════╤══════╤════════╤════════════╤══════════╤═════════════════╕\n",
      "│    │   ID │ Name   │ Position   │   Salary │ Email           │\n",
      "╞════╪══════╪════════╪════════════╪══════════╪═════════════════╡\n",
      "│  0 │    1 │ islam  │ hr         │   233333 │ islam@gmail.com │\n",
      "├────┼──────┼────────┼────────────┼──────────┼─────────────────┤\n",
      "│  1 │    3 │ omar   │ ceo        │    60000 │ omar@gmail.com  │\n",
      "├────┼──────┼────────┼────────────┼──────────┼─────────────────┤\n",
      "│  2 │    4 │ tarek  │ cfo        │    90000 │ tarek@gmail.com │\n",
      "╘════╧══════╧════════╧════════════╧══════════╧═════════════════╛\n"
     ]
    },
    {
     "name": "stdin",
     "output_type": "stream",
     "text": [
      "Select one of these inputs(a,d,u,v,s,e) a\n",
      "Enter Employee_ID 1\n"
     ]
    },
    {
     "name": "stdout",
     "output_type": "stream",
     "text": [
      "ID already exists.\n"
     ]
    },
    {
     "name": "stdin",
     "output_type": "stream",
     "text": [
      "Enter a unique Employee_ID:  2\n",
      "Enter Employee_name ramy\n",
      "Enter Employee_position Hr\n",
      "Enter Employee_salary 20000\n",
      "Enter Employee_email ramy@gmail.com\n",
      "Select one of these inputs(a,d,u,v,s,e) v\n"
     ]
    },
    {
     "name": "stdout",
     "output_type": "stream",
     "text": [
      "\n",
      "=== Employee Table ===\n",
      "╒════╤══════╤════════╤════════════╤══════════╤═════════════════╕\n",
      "│    │   ID │ Name   │ Position   │   Salary │ Email           │\n",
      "╞════╪══════╪════════╪════════════╪══════════╪═════════════════╡\n",
      "│  0 │    1 │ islam  │ hr         │   233333 │ islam@gmail.com │\n",
      "├────┼──────┼────────┼────────────┼──────────┼─────────────────┤\n",
      "│  1 │    3 │ omar   │ ceo        │    60000 │ omar@gmail.com  │\n",
      "├────┼──────┼────────┼────────────┼──────────┼─────────────────┤\n",
      "│  2 │    4 │ tarek  │ cfo        │    90000 │ tarek@gmail.com │\n",
      "├────┼──────┼────────┼────────────┼──────────┼─────────────────┤\n",
      "│  3 │    2 │ ramy   │ Hr         │    20000 │ ramy@gmail.com  │\n",
      "╘════╧══════╧════════╧════════════╧══════════╧═════════════════╛\n"
     ]
    },
    {
     "name": "stdin",
     "output_type": "stream",
     "text": [
      "Select one of these inputs(a,d,u,v,s,e) s\n",
      "Enter the Employee ID you want:  3\n"
     ]
    },
    {
     "name": "stdout",
     "output_type": "stream",
     "text": [
      "{'ID': '3', 'Name': 'omar', 'Position': 'ceo', 'Salary': 60000.0, 'Email': 'omar@gmail.com'}\n"
     ]
    },
    {
     "name": "stdin",
     "output_type": "stream",
     "text": [
      "Select one of these inputs(a,d,u,v,s,e) d\n",
      "Enter the Employee ID to delete:  1\n",
      "Select one of these inputs(a,d,u,v,s,e) v\n"
     ]
    },
    {
     "name": "stdout",
     "output_type": "stream",
     "text": [
      "\n",
      "=== Employee Table ===\n",
      "╒════╤══════╤════════╤════════════╤══════════╤═════════════════╕\n",
      "│    │   ID │ Name   │ Position   │   Salary │ Email           │\n",
      "╞════╪══════╪════════╪════════════╪══════════╪═════════════════╡\n",
      "│  0 │    3 │ omar   │ ceo        │    60000 │ omar@gmail.com  │\n",
      "├────┼──────┼────────┼────────────┼──────────┼─────────────────┤\n",
      "│  1 │    4 │ tarek  │ cfo        │    90000 │ tarek@gmail.com │\n",
      "├────┼──────┼────────┼────────────┼──────────┼─────────────────┤\n",
      "│  2 │    2 │ ramy   │ Hr         │    20000 │ ramy@gmail.com  │\n",
      "╘════╧══════╧════════╧════════════╧══════════╧═════════════════╛\n"
     ]
    },
    {
     "name": "stdin",
     "output_type": "stream",
     "text": [
      "Select one of these inputs(a,d,u,v,s,e) u\n",
      "Enter the Employee ID to update:  4\n",
      "New position:  SW\n",
      "Enter Employee salary:  50000\n",
      "New email:  s\n"
     ]
    },
    {
     "name": "stdout",
     "output_type": "stream",
     "text": [
      "Invalid Email: Must contain @gmail.com\n"
     ]
    },
    {
     "name": "stdin",
     "output_type": "stream",
     "text": [
      "Enter a valid E@mail address:  ramy@gmail.com\n"
     ]
    },
    {
     "name": "stdout",
     "output_type": "stream",
     "text": [
      "Email already exists.\n"
     ]
    },
    {
     "name": "stdin",
     "output_type": "stream",
     "text": [
      "Enter a valid E@mail address:  \n"
     ]
    },
    {
     "name": "stdout",
     "output_type": "stream",
     "text": [
      "Invalid Email: Must contain @gmail.com\n"
     ]
    },
    {
     "name": "stdin",
     "output_type": "stream",
     "text": [
      "Enter a valid E@mail address:  ramy@gmail.com\n"
     ]
    },
    {
     "name": "stdout",
     "output_type": "stream",
     "text": [
      "Email already exists.\n"
     ]
    },
    {
     "name": "stdin",
     "output_type": "stream",
     "text": [
      "Enter a valid E@mail address:  ramy1@gmail.com\n",
      "Select one of these inputs(a,d,u,v,s,e) v\n"
     ]
    },
    {
     "name": "stdout",
     "output_type": "stream",
     "text": [
      "\n",
      "=== Employee Table ===\n",
      "╒════╤══════╤════════╤════════════╤══════════╤═════════════════╕\n",
      "│    │   ID │ Name   │ Position   │   Salary │ Email           │\n",
      "╞════╪══════╪════════╪════════════╪══════════╪═════════════════╡\n",
      "│  0 │    3 │ omar   │ ceo        │    60000 │ omar@gmail.com  │\n",
      "├────┼──────┼────────┼────────────┼──────────┼─────────────────┤\n",
      "│  1 │    4 │ tarek  │ SW         │    50000 │ ramy1@gmail.com │\n",
      "├────┼──────┼────────┼────────────┼──────────┼─────────────────┤\n",
      "│  2 │    2 │ ramy   │ Hr         │    20000 │ ramy@gmail.com  │\n",
      "╘════╧══════╧════════╧════════════╧══════════╧═════════════════╛\n"
     ]
    },
    {
     "name": "stdin",
     "output_type": "stream",
     "text": [
      "Select one of these inputs(a,d,u,v,s,e) e\n"
     ]
    }
   ],
   "source": [
    "e=EmployeeManager()\n",
    "e.main_menu()"
   ]
  },
  {
   "cell_type": "code",
   "execution_count": null,
   "id": "dd0c3e0d-51b3-482c-9e55-dbbc7246b713",
   "metadata": {},
   "outputs": [],
   "source": []
  }
 ],
 "metadata": {
  "kernelspec": {
   "display_name": "Python 3 (ipykernel)",
   "language": "python",
   "name": "python3"
  },
  "language_info": {
   "codemirror_mode": {
    "name": "ipython",
    "version": 3
   },
   "file_extension": ".py",
   "mimetype": "text/x-python",
   "name": "python",
   "nbconvert_exporter": "python",
   "pygments_lexer": "ipython3",
   "version": "3.11.7"
  }
 },
 "nbformat": 4,
 "nbformat_minor": 5
}
